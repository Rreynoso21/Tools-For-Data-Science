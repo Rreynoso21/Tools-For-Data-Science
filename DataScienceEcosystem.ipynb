{
  "metadata": {
    "kernelspec": {
      "name": "python",
      "display_name": "Python (Pyodide)",
      "language": "python"
    },
    "language_info": {
      "name": ""
    }
  },
  "nbformat_minor": 4,
  "nbformat": 4,
  "cells": [
    {
      "cell_type": "markdown",
      "source": "Data Science Tools and Ecosystem",
      "metadata": {}
    },
    {
      "cell_type": "markdown",
      "source": "In this notebook, I'll share some of the devices I use to memorize Data Science Tools and their ecosystem.",
      "metadata": {}
    },
    {
      "cell_type": "markdown",
      "source": "Popular languages in Data Science include (1.) SQL, (2.) R and (3) Python. The most prevalent open data science tools are JupyterLab and R Studio. For this one, I remember that I am born in December. The associated planet is Jupiter. R Studio is prevalent because it is one letter that is at the start of it's name, at the end of Jupyter Lab and at the beginning of my own name.",
      "metadata": {}
    },
    {
      "cell_type": "code",
      "source": "Objectives: \n\n1. Data Science Languages & Tools\n2. CDLA & Scientific Libraries\n3. Beginner Examples of Data Science ",
      "metadata": {
        "trusted": true
      },
      "outputs": [],
      "execution_count": null
    },
    {
      "cell_type": "markdown",
      "source": "Data Science Libraries. For Data Science Libraries, I primarily think of the CDLA, Community Data License Agreement. Admittedly, it did not show up in the earlier coursework. For the Scientific Libraries, I use the device of 6lack. Pandas is a scientific computing library and 6lack in his depressed state referred to Bears a lot in his art. Numpy is the other scientific library and all I can connect it to is Module 3. This reminds me of a rubix cube and that there is always an alogorithm.",
      "metadata": {}
    },
    {
      "cell_type": "markdown",
      "source": "| Data Science Tools | Type |\n|--------------------|---------| \n| R Studio                |Open|\n| Jupyter Notebooks             |Open| \n| Spyder             |Open|",
      "metadata": {}
    },
    {
      "cell_type": "code",
      "source": "Python is a basic programming language that can be used for mathematical equations.",
      "metadata": {
        "trusted": true
      },
      "outputs": [],
      "execution_count": null
    },
    {
      "cell_type": "code",
      "source": "23\nSimple math problem using some of my favorite integers.",
      "metadata": {
        "trusted": true
      },
      "outputs": [],
      "execution_count": null
    },
    {
      "cell_type": "code",
      "source": "60\nThis will convert 300 minutes to hours by diving by 60",
      "metadata": {
        "trusted": true
      },
      "outputs": [],
      "execution_count": null
    },
    {
      "cell_type": "code",
      "source": "Author\nRodney Reynoso",
      "metadata": {
        "trusted": true
      },
      "outputs": [],
      "execution_count": null
    }
  ]
}
